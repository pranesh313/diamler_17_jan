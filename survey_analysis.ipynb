{
 "cells": [
  {
   "cell_type": "code",
   "execution_count": null,
   "id": "bdae7c38",
   "metadata": {},
   "outputs": [],
   "source": [
    "# Survey Analysis and Trend Visualization"
   ]
  },
  {
   "cell_type": "code",
   "execution_count": 69,
   "id": "bba85c34",
   "metadata": {},
   "outputs": [],
   "source": [
    "import pandas as pd\n",
    "\n",
    "# Read the CSV Files\n",
    "full_emp_list = pd.read_csv('emp_list.csv',header=None,names=['empname'])\n",
    "survey_list = pd.read_csv('data_sheet.csv',header=None,names=['empname'])"
   ]
  },
  {
   "cell_type": "code",
   "execution_count": 71,
   "id": "4ae5f6de",
   "metadata": {},
   "outputs": [],
   "source": [
    "# convert the lists to lower case\n",
    "full_emp_list['empname'] = full_emp_list['empname'].str.lower()\n",
    "survey_list['empname'] = survey_list['empname'].str.lower()"
   ]
  },
  {
   "cell_type": "code",
   "execution_count": 72,
   "id": "59c14a08",
   "metadata": {},
   "outputs": [],
   "source": [
    "# sort the dataframes\n",
    "full_emp_list.sort_values(by='empname',inplace=True)\n",
    "survey_list.sort_values(by='empname',inplace=True)"
   ]
  },
  {
   "cell_type": "code",
   "execution_count": 114,
   "id": "d379f3c1",
   "metadata": {},
   "outputs": [
    {
     "name": "stdout",
     "output_type": "stream",
     "text": [
      "60 did not take the survey\n",
      "{'arun kaappil', 'manisha gupta', 'prashanth n venkatesan', 'usha nalla', 'ananta malpani', 'arpita ganesh', 'sangita baral', 'shobha mudanoor', 'rajkishore rao', 'pranav jambulingam', 'rohit shet', 'prajeet nair', 'kali viswanath puvvada', 'jagadeesh kumar koneti', 'shipra mishra', 'vinutha mayanna', 'monisha deranda seetharam', 'pradipta das', 'shirin wadi', 'srinwanti sarkar', 'bijay rana', 'santosh manjunatha', 'amit kumar', 'mupparapu hariprasad', 'rangadurai dhakshinamoorthy', 'ranjith kumar', 'tina esther', 'vijayeendra muddapur', 'raghunath dayana'}\n"
     ]
    }
   ],
   "source": [
    "#Compare and check for who did not participate\n",
    "count = 0\n",
    "took_survey = []\n",
    "for participant in survey_list.empname:\n",
    "    first_name = str(participant).split()[0]\n",
    "    for name in full_emp_list.empname:\n",
    "        if name.find(first_name) >=0:\n",
    "            took_survey.append(name)\n",
    "            count += 1\n",
    "    \n",
    "print(f\"{count} did not take the survey\")\n",
    "print(set(full_emp_list.empname.tolist()) - set(took_survey))"
   ]
  }
 ],
 "metadata": {
  "kernelspec": {
   "display_name": "Python 3 (ipykernel)",
   "language": "python",
   "name": "python3"
  },
  "language_info": {
   "codemirror_mode": {
    "name": "ipython",
    "version": 3
   },
   "file_extension": ".py",
   "mimetype": "text/x-python",
   "name": "python",
   "nbconvert_exporter": "python",
   "pygments_lexer": "ipython3",
   "version": "3.9.7"
  }
 },
 "nbformat": 4,
 "nbformat_minor": 5
}
